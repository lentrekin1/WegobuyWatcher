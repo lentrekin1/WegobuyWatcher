{
 "cells": [
  {
   "cell_type": "markdown",
   "id": "762e410c",
   "metadata": {},
   "source": [
    "# Wegobuy Data Analysis"
   ]
  },
  {
   "cell_type": "code",
   "execution_count": 1,
   "id": "0c3e5534",
   "metadata": {},
   "outputs": [],
   "source": [
    "# imports\n",
    "import pandas as pd\n",
    "import matplotlib.pyplot as plt\n",
    "from IPython.core.display import HTML"
   ]
  },
  {
   "cell_type": "code",
   "execution_count": 2,
   "id": "816e610a",
   "metadata": {},
   "outputs": [],
   "source": [
    "# display prep\n",
    "def show(data):\n",
    "    html = '<ul>'\n",
    "    for line in data:\n",
    "        html += '<li>' + line + '</li>'\n",
    "    html += '</ul>'\n",
    "    return HTML(html)"
   ]
  },
  {
   "cell_type": "code",
   "execution_count": 3,
   "id": "82843d85",
   "metadata": {},
   "outputs": [],
   "source": [
    "# data prep\n",
    "data_file = 'data.csv'\n",
    "df = pd.read_csv(data_file)\n",
    "for col in ['goodsOrderTime', 'createTime', 'updateTime']:\n",
    "    df[col] = pd.to_datetime(df[col], unit='s')"
   ]
  },
  {
   "cell_type": "markdown",
   "id": "babed999",
   "metadata": {},
   "source": [
    "### Basic Info"
   ]
  },
  {
   "cell_type": "code",
   "execution_count": 4,
   "id": "96eb9f7a",
   "metadata": {},
   "outputs": [
    {
     "data": {
      "text/html": [
       "<ul><li>Number of columns: 21</li><li>Number of items: 56197</li><li>Date range: 2021-03-28 22:06:09 to 2021-04-18 23:46:26</li></ul>"
      ],
      "text/plain": [
       "<IPython.core.display.HTML object>"
      ]
     },
     "execution_count": 4,
     "metadata": {},
     "output_type": "execute_result"
    }
   ],
   "source": [
    "data = []\n",
    "data.append(f'Number of columns: {len(df.columns)}')\n",
    "data.append(f'Number of items: {len(df)}')\n",
    "data.append(f'Date range: {df[\"goodsOrderTime\"].min()} to {df[\"goodsOrderTime\"].max()}')\n",
    "show(data)"
   ]
  },
  {
   "cell_type": "markdown",
   "id": "c9543900",
   "metadata": {},
   "source": [
    "### Notable Items"
   ]
  },
  {
   "cell_type": "code",
   "execution_count": 5,
   "id": "126fcd7b",
   "metadata": {
    "scrolled": true
   },
   "outputs": [
    {
     "data": {
      "text/html": [
       "<ul><li>The most popular item was <a href='https://item.taobao.com/item.htm?id=616770606113'>https://item.taobao.com/item.htm?id=616770606113</a>, which was purchased 486 times.</li><li>The most expensive item was <a href=\"https://item.taobao.com/item.htm?id=625437721182\">https://item.taobao.com/item.htm?id=625437721182</a>, which cost 46000.0 yuan</li></ul>"
      ],
      "text/plain": [
       "<IPython.core.display.HTML object>"
      ]
     },
     "execution_count": 5,
     "metadata": {},
     "output_type": "execute_result"
    }
   ],
   "source": [
    "data = []\n",
    "data.append(f\"The most popular item was <a href='{df['goodsLink'].value_counts().idxmax()}'>{df['goodsLink'].value_counts().idxmax()}</a>, which was purchased {df['goodsLink'].value_counts().max()} times.\")\n",
    "data.append(f'The most expensive item was <a href=\"{df.loc[df[\"goodsPrice\"].idxmax()][\"goodsLink\"]}\">{df.loc[df[\"goodsPrice\"].idxmax()][\"goodsLink\"]}</a>, which cost {df[\"goodsPrice\"].max()} yuan')\n",
    "show(data)"
   ]
  },
  {
   "cell_type": "markdown",
   "id": "204511a7",
   "metadata": {},
   "source": [
    "### Top 10 most popular items"
   ]
  },
  {
   "cell_type": "code",
   "execution_count": 38,
   "id": "57376a06",
   "metadata": {},
   "outputs": [
    {
     "name": "stdout",
     "output_type": "stream",
     "text": [
      "item link                                           number of times purchased\n",
      "https://item.taobao.com/item.htm?id=616770606113    486\n",
      "https://item.taobao.com/item.htm?id=597070846405    417\n",
      "https://item.taobao.com/item.htm?id=642094579440    407\n",
      "https://item.taobao.com/item.htm?id=640860964105    351\n",
      "https://item.taobao.com/item.htm?id=573745184333    336\n",
      "https://item.taobao.com/item.htm?id=641825974885    332\n",
      "https://item.taobao.com/item.htm?id=564151891731    267\n",
      "https://item.taobao.com/item.htm?id=640069661790    258\n",
      "https://item.taobao.com/item.htm?id=543020978173    252\n",
      "https://item.taobao.com/item.htm?id=641448414763    202\n",
      "Name: goodsLink, dtype: int64\n"
     ]
    }
   ],
   "source": [
    "print('item link                                           number of times purchased')\n",
    "print(df['goodsLink'].value_counts()[:10])"
   ]
  },
  {
   "cell_type": "markdown",
   "id": "838b53b6",
   "metadata": {},
   "source": [
    "### Top 10 items bought by most different users"
   ]
  },
  {
   "cell_type": "code",
   "execution_count": 43,
   "id": "9f5682b7",
   "metadata": {
    "scrolled": true
   },
   "outputs": [
    {
     "name": "stdout",
     "output_type": "stream",
     "text": [
      "item link                                           number of times purchased\n",
      "https://item.taobao.com/item.htm?id=616770606113    445\n",
      "https://item.taobao.com/item.htm?id=642094579440    344\n",
      "https://item.taobao.com/item.htm?id=573745184333    300\n",
      "https://item.taobao.com/item.htm?id=640860964105    297\n",
      "https://item.taobao.com/item.htm?id=597070846405    280\n",
      "https://item.taobao.com/item.htm?id=641825974885    266\n",
      "https://item.taobao.com/item.htm?id=640069661790    239\n",
      "https://item.taobao.com/item.htm?id=543020978173    227\n",
      "https://item.taobao.com/item.htm?id=564151891731    225\n",
      "https://item.taobao.com/item.htm?id=571991582579    177\n",
      "Name: goodsLink, dtype: int64\n"
     ]
    }
   ],
   "source": [
    "unique_pop = df.drop_duplicates(subset=['buyerName', 'goodsLink'])\n",
    "print('item link                                           number of times purchased')\n",
    "print(unique_pop['goodsLink'].value_counts()[:10])"
   ]
  },
  {
   "cell_type": "markdown",
   "id": "ffe8d614",
   "metadata": {},
   "source": [
    "### Most popular countries"
   ]
  },
  {
   "cell_type": "code",
   "execution_count": 45,
   "id": "74565611",
   "metadata": {},
   "outputs": [
    {
     "data": {
      "text/html": [
       "<ul><li>10 most popular countries (in order): ['US', 'GB', 'CA', 'AU', 'DE', 'FR', 'IE', 'NL', 'IT', 'ES']</li></ul>"
      ],
      "text/plain": [
       "<IPython.core.display.HTML object>"
      ]
     },
     "execution_count": 45,
     "metadata": {},
     "output_type": "execute_result"
    }
   ],
   "source": [
    "data=[]\n",
    "data.append('10 most popular countries (in order): ' + str(df['countryCode'].value_counts()[:10].index.tolist()))\n",
    "show(data)"
   ]
  },
  {
   "cell_type": "markdown",
   "id": "191d8a3d",
   "metadata": {},
   "source": [
    "### Notable Users"
   ]
  },
  {
   "cell_type": "code",
   "execution_count": 6,
   "id": "34bfc304",
   "metadata": {},
   "outputs": [
    {
     "data": {
      "text/html": [
       "<ul><li>itzswace from GB purchased the most items, 80 items for a total of 16617.9 yuan</li><li>The most popular country was US</li><li>qmako41212 from GB spend the most money, 95429.91000000002 yuan on 23 items</li></ul>"
      ],
      "text/plain": [
       "<IPython.core.display.HTML object>"
      ]
     },
     "execution_count": 6,
     "metadata": {},
     "output_type": "execute_result"
    }
   ],
   "source": [
    "def get_biggest_spender():\n",
    "    # yep\n",
    "    users = {}\n",
    "    for row in df.iterrows():\n",
    "        if row[1][\"buyerName\"] not in users:\n",
    "            users[row[1][\"buyerName\"]] = 0\n",
    "        users[row[1][\"buyerName\"]] += row[1][\"goodsPrice\"]\n",
    "    biggest = ('', 0)\n",
    "    for u in users:\n",
    "        if users[u] > biggest[1]:\n",
    "            biggest = (u, users[u])\n",
    "    return biggest\n",
    "data = []\n",
    "data.append(f'{df[\"buyerName\"].mode()[0]} from {df[df[\"buyerName\"] == df[\"buyerName\"].mode()[0]][\"countryCode\"].iloc[0]} purchased the most items, {len(df[df[\"buyerName\"] == df[\"buyerName\"].mode()[0]])} items for a total of {df[df[\"buyerName\"] == df[\"buyerName\"].mode()[0]][\"goodsPrice\"].sum()} yuan')\n",
    "biggest_spender = get_biggest_spender()\n",
    "data.append(f'{biggest_spender[0]} from {df.loc[df[\"buyerName\"] == biggest_spender[0]][\"countryCode\"].iloc[0]} spend the most money, {biggest_spender[1]} yuan on {len(df.loc[df[\"buyerName\"] == biggest_spender[0]][\"goodsPrice\"])} items')\n",
    "show(data)"
   ]
  },
  {
   "cell_type": "markdown",
   "id": "884a65bc",
   "metadata": {},
   "source": [
    "### itzswace's items (price high to low)"
   ]
  },
  {
   "cell_type": "code",
   "execution_count": 30,
   "id": "f1cd773e",
   "metadata": {},
   "outputs": [
    {
     "name": "stdout",
     "output_type": "stream",
     "text": [
      "           goodsOrderTime                                         goodsLink  goodsPrice\n",
      "35507 2021-04-11 18:38:15  https://item.taobao.com/item.htm?id=633403239068       730.0\n",
      "35222 2021-04-11 17:07:59  https://item.taobao.com/item.htm?id=628723780061       499.0\n",
      "35491 2021-04-11 18:38:15  https://item.taobao.com/item.htm?id=639720334341       428.0\n",
      "35232 2021-04-11 17:07:59  https://item.taobao.com/item.htm?id=633402639801       399.0\n",
      "35497 2021-04-11 18:38:15  https://item.taobao.com/item.htm?id=628294368249       399.0\n",
      "35500 2021-04-11 18:38:15  https://item.taobao.com/item.htm?id=617973158622       399.0\n",
      "35517 2021-04-11 18:38:15  https://item.taobao.com/item.htm?id=635190863043       378.0\n",
      "35231 2021-04-11 17:07:59  https://item.taobao.com/item.htm?id=628944388374       368.0\n",
      "35225 2021-04-11 17:07:59  https://item.taobao.com/item.htm?id=624465715073       359.0\n",
      "35486 2021-04-11 18:38:15  https://item.taobao.com/item.htm?id=641647496661       329.0\n",
      "35598 2021-04-11 19:03:09  https://item.taobao.com/item.htm?id=639016128473       329.0\n",
      "35227 2021-04-11 17:07:59  https://item.taobao.com/item.htm?id=628193060038       329.0\n",
      "35223 2021-04-11 17:07:59  https://item.taobao.com/item.htm?id=640076684276       319.0\n",
      "35505 2021-04-11 18:38:15  https://item.taobao.com/item.htm?id=613852078710       300.0\n",
      "35501 2021-04-11 18:38:15  https://item.taobao.com/item.htm?id=618884046514       299.0\n",
      "35217 2021-04-11 17:07:59  https://item.taobao.com/item.htm?id=626685753746       299.0\n",
      "35226 2021-04-11 17:07:59  https://item.taobao.com/item.htm?id=614703630038       299.0\n",
      "35514 2021-04-11 18:38:15  https://item.taobao.com/item.htm?id=636759081972       298.0\n",
      "35523 2021-04-11 18:38:15  https://item.taobao.com/item.htm?id=626767335939       279.0\n",
      "35482 2021-04-11 18:38:15  https://item.taobao.com/item.htm?id=641040620521       278.0\n",
      "35512 2021-04-11 18:38:15  https://item.taobao.com/item.htm?id=637414619636       268.0\n",
      "35509 2021-04-11 18:38:15  https://item.taobao.com/item.htm?id=613604249533       260.0\n",
      "35235 2021-04-11 17:07:59  https://item.taobao.com/item.htm?id=641920258641       249.0\n",
      "35499 2021-04-11 18:38:15  https://item.taobao.com/item.htm?id=625849219332       249.0\n",
      "35221 2021-04-11 17:07:59  https://item.taobao.com/item.htm?id=636322753636       249.0\n",
      "35504 2021-04-11 18:38:15  https://item.taobao.com/item.htm?id=625167659524       240.0\n",
      "35234 2021-04-11 17:07:59  https://item.taobao.com/item.htm?id=642334523972       239.0\n",
      "35230 2021-04-11 17:07:59  https://item.taobao.com/item.htm?id=628196440966       229.0\n",
      "35233 2021-04-11 17:07:59  https://item.taobao.com/item.htm?id=629633322315       229.0\n",
      "35519 2021-04-11 18:38:15  https://item.taobao.com/item.htm?id=623860386974       220.0\n",
      "35229 2021-04-11 17:07:59  https://item.taobao.com/item.htm?id=638829434441       219.0\n",
      "35228 2021-04-11 17:07:59  https://item.taobao.com/item.htm?id=612312631189       219.0\n",
      "35596 2021-04-11 19:03:09  https://item.taobao.com/item.htm?id=625411415528       208.0\n",
      "35475 2021-04-11 18:38:15  https://item.taobao.com/item.htm?id=638577348181       208.0\n",
      "35474 2021-04-11 18:38:15  https://item.taobao.com/item.htm?id=625411415528       208.0\n",
      "35516 2021-04-11 18:38:15  https://item.taobao.com/item.htm?id=617970572680       208.0\n",
      "35218 2021-04-11 17:07:59  https://item.taobao.com/item.htm?id=636872652537       199.0\n",
      "35490 2021-04-11 18:38:15  https://item.taobao.com/item.htm?id=641635428410       199.0\n",
      "35224 2021-04-11 17:07:59  https://item.taobao.com/item.htm?id=642395747002       199.0\n",
      "35511 2021-04-11 18:38:15  https://item.taobao.com/item.htm?id=641395480062       198.0\n",
      "35521 2021-04-11 18:38:15  https://item.taobao.com/item.htm?id=625325804561       198.0\n",
      "35488 2021-04-11 18:38:15  https://item.taobao.com/item.htm?id=634440035268       188.0\n",
      "35484 2021-04-11 18:38:15  https://item.taobao.com/item.htm?id=626979077520       188.0\n",
      "35520 2021-04-11 18:38:15  https://item.taobao.com/item.htm?id=626988037537       188.0\n",
      "35502 2021-04-11 18:38:15  https://item.taobao.com/item.htm?id=617822524032       188.0\n",
      "35220 2021-04-11 17:07:59  https://item.taobao.com/item.htm?id=637610919733       188.0\n",
      "35479 2021-04-11 18:38:15  https://item.taobao.com/item.htm?id=628305562017       178.0\n",
      "35487 2021-04-11 18:38:15  https://item.taobao.com/item.htm?id=633811725670       175.0\n",
      "35503 2021-04-11 18:38:15  https://item.taobao.com/item.htm?id=616761951375       170.0\n",
      "35481 2021-04-11 18:38:15  https://item.taobao.com/item.htm?id=640315066342       158.0\n",
      "35476 2021-04-11 18:38:15  https://item.taobao.com/item.htm?id=625126646530       155.0\n",
      "35597 2021-04-11 19:03:09  https://item.taobao.com/item.htm?id=625126646530       155.0\n",
      "35594 2021-04-11 19:03:09  https://item.taobao.com/item.htm?id=613100041598       138.0\n",
      "35508 2021-04-11 18:38:15  https://item.taobao.com/item.htm?id=639473641696       129.0\n",
      "35493 2021-04-11 18:38:15  https://item.taobao.com/item.htm?id=639106452347       129.0\n",
      "35219 2021-04-11 17:07:59  https://item.taobao.com/item.htm?id=611904530152       129.0\n",
      "35593 2021-04-11 19:03:09  https://item.taobao.com/item.htm?id=613104393826       128.0\n",
      "35473 2021-04-11 18:38:15  https://item.taobao.com/item.htm?id=639679030414       125.0\n",
      "35483 2021-04-11 18:38:15  https://item.taobao.com/item.htm?id=641534277240       125.0\n",
      "35477 2021-04-11 18:38:15  https://item.taobao.com/item.htm?id=640947560317       118.0\n",
      "35522 2021-04-11 18:38:15  https://item.taobao.com/item.htm?id=618655296414       118.0\n",
      "35494 2021-04-11 18:38:15  https://item.taobao.com/item.htm?id=638462549684       109.0\n",
      "35518 2021-04-11 18:38:15  https://item.taobao.com/item.htm?id=640997315582        99.0\n",
      "35472 2021-04-11 18:38:15  https://item.taobao.com/item.htm?id=638401930025        99.0\n",
      "35513 2021-04-11 18:38:15  https://item.taobao.com/item.htm?id=641168333068        98.0\n",
      "35515 2021-04-11 18:38:15  https://item.taobao.com/item.htm?id=641167153519        98.0\n",
      "51072 2021-04-17 00:24:02  https://item.taobao.com/item.htm?id=640993778561        98.0\n",
      "35485 2021-04-11 18:38:15  https://item.taobao.com/item.htm?id=634124930943        98.0\n",
      "35510 2021-04-11 18:38:15  https://item.taobao.com/item.htm?id=614587734072        89.0\n",
      "35492 2021-04-11 18:38:15  https://item.taobao.com/item.htm?id=638103792498        89.0\n",
      "51003 2021-04-16 23:56:31  https://item.taobao.com/item.htm?id=641061557345        88.0\n",
      "35478 2021-04-11 18:38:15  https://item.taobao.com/item.htm?id=641061557345        88.0\n",
      "51073 2021-04-17 00:24:02  https://item.taobao.com/item.htm?id=638055001694        75.0\n",
      "35480 2021-04-11 18:38:15  https://item.taobao.com/item.htm?id=638391562585        75.0\n",
      "35489 2021-04-11 18:38:15  https://item.taobao.com/item.htm?id=635791583440        75.0\n",
      "35495 2021-04-11 18:38:15  https://item.taobao.com/item.htm?id=635152529212        75.0\n",
      "35496 2021-04-11 18:38:15  https://item.taobao.com/item.htm?id=638477554122        75.0\n",
      "35498 2021-04-11 18:38:15  https://item.taobao.com/item.htm?id=588837392083        49.0\n",
      "35506 2021-04-11 18:38:15  https://item.taobao.com/item.htm?id=610382713068        29.9\n",
      "35595 2021-04-11 19:03:09  https://item.taobao.com/item.htm?id=612399173896        29.0\n"
     ]
    }
   ],
   "source": [
    "with pd.option_context('expand_frame_repr', False, 'display.max_rows', None, 'display.max_columns', None):\n",
    "    itzswace = df[['goodsOrderTime', 'buyerName', 'goodsLink', 'goodsPrice']].loc[df['buyerName'] == 'itzswace'][['goodsOrderTime', 'goodsLink', 'goodsPrice']].sort_values(by=['goodsPrice'], ascending=False)\n",
    "    print(itzswace)"
   ]
  },
  {
   "cell_type": "markdown",
   "id": "ec29dd61",
   "metadata": {},
   "source": [
    "### qmako41212's items (price high to low)"
   ]
  },
  {
   "cell_type": "code",
   "execution_count": 31,
   "id": "68099164",
   "metadata": {},
   "outputs": [
    {
     "name": "stdout",
     "output_type": "stream",
     "text": [
      "           goodsOrderTime                                         goodsLink  goodsPrice\n",
      "31779 2021-04-10 03:10:14  https://item.taobao.com/item.htm?id=625437721182    46000.00\n",
      "51061 2021-04-17 00:18:50  https://item.taobao.com/item.htm?id=625437721182    39800.00\n",
      "32601 2021-04-10 13:40:47  https://item.taobao.com/item.htm?id=625437721182     5800.00\n",
      "52850 2021-04-17 19:01:25  https://item.taobao.com/item.htm?id=641276480591      469.00\n",
      "17680 2021-04-04 02:50:11  https://item.taobao.com/item.htm?id=626998641867      399.00\n",
      "17504 2021-04-04 01:28:52  https://item.taobao.com/item.htm?id=608891312479      398.00\n",
      "53489 2021-04-18 01:47:44  https://item.taobao.com/item.htm?id=609365115649      289.00\n",
      "17514 2021-04-04 01:38:33  https://item.taobao.com/item.htm?id=625619050749      279.00\n",
      "8566  2021-03-31 23:20:17  https://item.taobao.com/item.htm?id=640457150236      248.00\n",
      "17420 2021-04-04 00:29:58  https://item.taobao.com/item.htm?id=621609640387      238.00\n",
      "53386 2021-04-18 00:41:55  https://item.taobao.com/item.htm?id=592409412213      236.71\n",
      "36617 2021-04-12 01:29:26  https://item.taobao.com/item.htm?id=642094579440      199.00\n",
      "19718 2021-04-04 21:18:43  https://item.taobao.com/item.htm?id=636007677412      178.00\n",
      "50383 2021-04-16 19:02:23  https://item.taobao.com/item.htm?id=628572212095      168.00\n",
      "8565  2021-03-31 23:20:17  https://item.taobao.com/item.htm?id=634238488713      125.00\n",
      "22281 2021-04-06 19:26:02  https://item.taobao.com/item.htm?id=634238488713      125.00\n",
      "17611 2021-04-04 02:20:40  https://item.taobao.com/item.htm?id=627308001872      109.00\n",
      "14926 2021-04-03 01:02:16  https://item.taobao.com/item.htm?id=640950865253       98.00\n",
      "8564  2021-03-31 23:20:17  https://item.taobao.com/item.htm?id=636559994285       90.00\n",
      "22280 2021-04-06 19:26:02  https://item.taobao.com/item.htm?id=636559994285       90.00\n",
      "53490 2021-04-18 01:47:44  https://item.taobao.com/item.htm?id=625067705489       43.60\n",
      "53241 2021-04-17 23:03:56  https://item.taobao.com/item.htm?id=610192479877       23.80\n",
      "53237 2021-04-17 23:01:54  https://item.taobao.com/item.htm?id=610192479877       23.80\n"
     ]
    }
   ],
   "source": [
    "with pd.option_context('expand_frame_repr', False):\n",
    "    qmako41212 = df[['goodsOrderTime', 'buyerName', 'goodsLink', 'goodsPrice']].loc[df['buyerName'] == 'qmako41212'][['goodsOrderTime', 'goodsLink', 'goodsPrice']].sort_values(by=['goodsPrice'], ascending=False)\n",
    "    print(qmako41212)"
   ]
  },
  {
   "cell_type": "markdown",
   "id": "85e132c6",
   "metadata": {},
   "source": [
    "### Pretty Pictures"
   ]
  },
  {
   "cell_type": "code",
   "execution_count": 7,
   "id": "6d06a971",
   "metadata": {},
   "outputs": [
    {
     "data": {
      "image/png": "[encoded data removed]",
      "text/plain": [
       "<Figure size 1080x360 with 1 Axes>"
      ]
     },
     "metadata": {
      "needs_background": "light"
     },
     "output_type": "display_data"
    },
    {
     "data": {
      "image/png": "[encoded data removed]",
      "text/plain": [
       "<Figure size 1080x360 with 1 Axes>"
      ]
     },
     "metadata": {
      "needs_background": "light"
     },
     "output_type": "display_data"
    }
   ],
   "source": [
    "df.groupby(df['goodsOrderTime'].rename('Hour (Military time)').dt.hour).size().plot(title='Number of Orders by Hour (CST)', figsize=(15,5))\n",
    "plt.show()\n",
    "df.groupby(df['goodsOrderTime'].rename('Day').dt.date).size().plot(\n",
    "    title='Number of Orders by Day (CST)', figsize=(15,5))\n",
    "plt.show()"
   ]
  },
  {
   "cell_type": "code",
   "execution_count": null,
   "id": "a8b9821e",
   "metadata": {},
   "outputs": [],
   "source": []
  }
 ],
 "metadata": {
  "kernelspec": {
   "display_name": "Python 3",
   "language": "python",
   "name": "python3"
  },
  "language_info": {
   "codemirror_mode": {
    "name": "ipython",
    "version": 3
   },
   "file_extension": ".py",
   "mimetype": "text/x-python",
   "name": "python",
   "nbconvert_exporter": "python",
   "pygments_lexer": "ipython3",
   "version": "3.8.2"
  }
 },
 "nbformat": 4,
 "nbformat_minor": 5
}
